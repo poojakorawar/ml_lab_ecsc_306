{
 "cells": [
  {
   "cell_type": "code",
   "execution_count": 1,
   "metadata": {},
   "outputs": [
    {
     "name": "stdout",
     "output_type": "stream",
     "text": [
      "2.35\n",
      "1.25\n",
      "0.05\n",
      "0.05\n",
      "1.0\n",
      "-1.1\n"
     ]
    }
   ],
   "source": [
    "import tensorflow as tf\n",
    "x=tf.constant([2.2,2.3,2.4,2.5])\n",
    "y=tf.constant([1.1,1.2,1.3,1.4])\n",
    "\n",
    "\n",
    "mean_x=tf.reduce_mean(x)\n",
    "mean_y=tf.reduce_mean(y)\n",
    "\n",
    "\n",
    "ses=tf.Session()\n",
    "print(ses.run(mean_x))\n",
    "ses=tf.Session()\n",
    "print(ses.run(mean_y))\n",
    "\n",
    "p=tf.subtract(x,mean_x)\n",
    "q=tf.subtract(y,mean_y)\n",
    "\n",
    "r=tf.square(p)\n",
    "s=tf.square(q)\n",
    "\n",
    "var=tf.reduce_sum(r)\n",
    "\n",
    "\n",
    "ses=tf.Session()\n",
    "print(ses.run(var))\n",
    "\n",
    "t=tf.subtract(x,mean_x)\n",
    "u=tf.subtract(y,mean_y)\n",
    "\n",
    "v=tf.multiply(t,u)\n",
    "\n",
    "covar=tf.reduce_sum(v)\n",
    "ses=tf.Session()\n",
    "print(ses.run(covar))\n",
    "\n",
    "p_graph=tf.div(covar,var)\n",
    "ses=tf.Session()\n",
    "print(ses.run(p_graph))\n",
    "\n",
    "p1=tf.multiply(p_graph,mean_x)\n",
    "\n",
    "p2=tf.subtract(mean_y,p1)\n",
    "\n",
    "with tf.Session() as sess:\n",
    "    writer = tf.summary.FileWriter(\"/tmp/tboard/output6\", sess.graph)\n",
    "    print(sess.run(p2))\n",
    "    writer.close()\n",
    "\n"
   ]
  },
  {
   "cell_type": "code",
   "execution_count": null,
   "metadata": {
    "collapsed": true
   },
   "outputs": [],
   "source": []
  }
 ],
 "metadata": {
  "kernelspec": {
   "display_name": "Python 3",
   "language": "python",
   "name": "python3"
  },
  "language_info": {
   "codemirror_mode": {
    "name": "ipython",
    "version": 3
   },
   "file_extension": ".py",
   "mimetype": "text/x-python",
   "name": "python",
   "nbconvert_exporter": "python",
   "pygments_lexer": "ipython3",
   "version": "3.6.1"
  }
 },
 "nbformat": 4,
 "nbformat_minor": 2
}
